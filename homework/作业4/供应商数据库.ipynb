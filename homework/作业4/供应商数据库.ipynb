{
 "cells": [
  {
   "cell_type": "markdown",
   "metadata": {},
   "source": [
    "供应商数据库SPJ中有三张表：\n",
    "\n",
    "S(SNO, SNAME, STATUS, CITY)\n",
    "\n",
    "P(PNO, PNAME, COLOR, WEIGHT, CITY)\n",
    "\n",
    "J(JNO, JNAME,CITY)\n",
    "\n",
    "SPJ(SNO, PNO, JNO, QTY, PRICE)\n",
    "\n",
    "S表示供应商，各属性依次为供应商号，供应商名，供应商状态值，供应商所在城市；\n",
    "\n",
    "P表示零件，各属性依次为零件号，零件名，零件颜色，零件重量，零件存放的城市；\n",
    "\n",
    "J表示工程，各属性依次为工程号，工程名，工程所在城市；\n",
    "\n",
    "SPJ表示供货关系，各属性依次为供应商号，零件号，工程号，供货数量，单价。"
   ]
  },
  {
   "cell_type": "markdown",
   "metadata": {},
   "source": [
    "1. 求没有供应零件号为P1和P2两种零件的供应商姓名。"
   ]
  },
  {
   "cell_type": "code",
   "execution_count": null,
   "metadata": {
    "vscode": {
     "languageId": "sql"
    }
   },
   "outputs": [],
   "source": [
    "SELECT S.SNAME\n",
    "FROM S\n",
    "WHERE S.SNO NOT IN (\n",
    "    SELECT SPJ.SNO\n",
    "    FROM SPJ\n",
    "    WHERE SPJ.PNO IN ('P1', 'P2')\n",
    ");"
   ]
  },
  {
   "cell_type": "markdown",
   "metadata": {},
   "source": [
    "2. 列出所有供应商的信息，包括供应商姓名、所供应的零件名（没有供应零件的供应商也要列出，最后结果中不要出现重复元组）"
   ]
  },
  {
   "cell_type": "code",
   "execution_count": null,
   "metadata": {
    "vscode": {
     "languageId": "sql"
    }
   },
   "outputs": [],
   "source": [
    "SELECT DISTINCT S.SNAME, P.PNAME\n",
    "FROM S\n",
    "LEFT JOIN SPJ ON S.SNO = SPJ.SNO\n",
    "LEFT JOIN P ON SPJ.PNO = P.PNO;"
   ]
  },
  {
   "cell_type": "markdown",
   "metadata": {},
   "source": [
    "3. 求只向与自己位于不同城市的工程供应零件的供应商姓名。"
   ]
  },
  {
   "cell_type": "code",
   "execution_count": null,
   "metadata": {
    "vscode": {
     "languageId": "sql"
    }
   },
   "outputs": [],
   "source": [
    "SELECT DISTINCT S.SNAME\n",
    "FROM S\n",
    "JOIN SPJ ON S.SNO = SPJ.SNO\n",
    "JOIN J ON SPJ.JNO = J.JNO\n",
    "WHERE S.CITY <> J.CITY\n",
    "AND S.SNO NOT IN (\n",
    "    SELECT S2.SNO\n",
    "    FROM S AS S2\n",
    "    JOIN SPJ AS SPJ2 ON S2.SNO = SPJ2.SNO\n",
    "    JOIN J AS J2 ON SPJ2.JNO = J2.JNO\n",
    "    WHERE S2.CITY = J2.CITY\n",
    ");"
   ]
  },
  {
   "cell_type": "markdown",
   "metadata": {},
   "source": [
    "4. 求只向与自己位于相同城市的工程供应零件的供应商姓名。"
   ]
  },
  {
   "cell_type": "code",
   "execution_count": null,
   "metadata": {
    "vscode": {
     "languageId": "sql"
    }
   },
   "outputs": [],
   "source": [
    "SELECT DISTINCT S.SNAME\n",
    "FROM S\n",
    "JOIN SPJ ON S.SNO = SPJ.SNO\n",
    "JOIN J ON SPJ.JNO = J.JNO\n",
    "WHERE S.CITY = J.CITY\n",
    "AND S.SNO NOT IN (\n",
    "    SELECT S2.SNO\n",
    "    FROM S AS S2\n",
    "    JOIN SPJ AS SPJ2 ON S2.SNO = SPJ2.SNO\n",
    "    JOIN J AS J2 ON SPJ2.JNO = J2.JNO\n",
    "    WHERE S2.CITY <> J2.CITY\n",
    ");"
   ]
  },
  {
   "cell_type": "markdown",
   "metadata": {},
   "source": [
    "5. 求供应了所有零件的供应商姓名。\n",
    "   1. 在子查询中，我们找出在供货关系表SPJ中每个供应商（SPJ.SNO）所供应的不同零件数目。使用GROUP BY和COUNT(DISTINCT SPJ.PNO)来计算每个供应商供应的不同零件的数量。\n",
    "   2. 通过使用HAVING子句，我们筛选出那些供应了与所有零件数目相同的供应商。这里的子查询SELECT COUNT(*) FROM P用于获取所有零件的总数。\n",
    "   3. 最后，我们将筛选出的供应商编号（SPJ.SNO）与供应商表S中的供应商编号进行匹配，以获取供应商的姓名（S.SNAME）。"
   ]
  },
  {
   "cell_type": "code",
   "execution_count": null,
   "metadata": {
    "vscode": {
     "languageId": "sql"
    }
   },
   "outputs": [],
   "source": [
    "SELECT S.SNAME\n",
    "FROM S\n",
    "WHERE S.SNO IN (\n",
    "    SELECT SPJ.SNO\n",
    "    FROM SPJ\n",
    "    GROUP BY SPJ.SNO\n",
    "    HAVING COUNT(DISTINCT SPJ.PNO) = (\n",
    "        SELECT COUNT(*) FROM P\n",
    "    )\n",
    ");"
   ]
  },
  {
   "cell_type": "markdown",
   "metadata": {},
   "source": [
    "6. 求供应了所有红色零件的供应商姓名。"
   ]
  },
  {
   "cell_type": "code",
   "execution_count": null,
   "metadata": {
    "vscode": {
     "languageId": "sql"
    }
   },
   "outputs": [],
   "source": [
    "SELECT S.SNAME\n",
    "FROM S\n",
    "JOIN SPJ ON S.SNO = SPJ.SNO\n",
    "WHERE SPJ.PNO IN (SELECT PNO FROM P WHERE COLOR = '红色')\n",
    "GROUP BY S.SNAME\n",
    "HAVING COUNT(DISTINCT SPJ.PNO) = (SELECT COUNT(*) FROM P WHERE COLOR = '红色');"
   ]
  },
  {
   "cell_type": "markdown",
   "metadata": {},
   "source": [
    "7. 列出每个城市的工程所使用的零件总的数量。"
   ]
  },
  {
   "cell_type": "code",
   "execution_count": null,
   "metadata": {
    "vscode": {
     "languageId": "sql"
    }
   },
   "outputs": [],
   "source": [
    "SELECT J.CITY, SUM(SPJ.QTY)\n",
    "FROM J\n",
    "JOIN SPJ ON J.JNO = SPJ.JNO\n",
    "GROUP BY J.CITY;"
   ]
  },
  {
   "cell_type": "markdown",
   "metadata": {},
   "source": [
    "8. 按零件数量总和的降序列出每项工程所使用的每种红色零件的总的金额（工程可以向不同的供应商购买同一零件，总金额＝单价*供货数量）。输出工程号、零件号、总金额。"
   ]
  },
  {
   "cell_type": "code",
   "execution_count": null,
   "metadata": {
    "vscode": {
     "languageId": "sql"
    }
   },
   "outputs": [],
   "source": [
    "SELECT SPJ.JNO, SPJ.PNO, SUM(SPJ.QTY * SPJ.PRICE) AS TOTAL_AMOUNT\n",
    "FROM SPJ\n",
    "JOIN P ON SPJ.PNO = P.PNO\n",
    "WHERE P.COLOR = '红色'\n",
    "GROUP BY SPJ.JNO, SPJ.PNO\n",
    "ORDER BY SUM(SPJ.QTY) DESC;"
   ]
  },
  {
   "cell_type": "markdown",
   "metadata": {},
   "source": [
    "9. 求供应零件数量最多的供应商姓名。"
   ]
  },
  {
   "cell_type": "code",
   "execution_count": null,
   "metadata": {
    "vscode": {
     "languageId": "sql"
    }
   },
   "outputs": [],
   "source": [
    "SELECT S.SNAME\n",
    "FROM S\n",
    "JOIN SPJ ON S.SNO = SPJ.SNO\n",
    "GROUP BY S.SNAME\n",
    "ORDER BY SUM(SPJ.QTY) DESC\n",
    "LIMIT 1;"
   ]
  },
  {
   "cell_type": "markdown",
   "metadata": {},
   "source": [
    "10. 求每个城市中供应零件数量最多的供应商姓名。"
   ]
  },
  {
   "cell_type": "code",
   "execution_count": null,
   "metadata": {
    "vscode": {
     "languageId": "sql"
    }
   },
   "outputs": [],
   "source": [
    "WITH CitySupplies AS (\n",
    "    SELECT \n",
    "        S.CITY, \n",
    "        S.SNAME, \n",
    "        SUM(SPJ.QTY) AS TotalQuantity\n",
    "    FROM \n",
    "        S JOIN SPJ ON S.SNO = SPJ.SNO\n",
    "    GROUP BY \n",
    "        S.CITY, \n",
    "        S.SNAME\n",
    "),\n",
    "RankedSuppliers AS (\n",
    "    SELECT \n",
    "        CITY, \n",
    "        SNAME, \n",
    "        TotalQuantity,\n",
    "        RANK() OVER (PARTITION BY CITY ORDER BY TotalQuantity DESC) AS Ranking\n",
    "    FROM \n",
    "        CitySupplies\n",
    ")\n",
    "SELECT \n",
    "    CITY, \n",
    "    SNAME\n",
    "FROM \n",
    "    RankedSuppliers\n",
    "WHERE \n",
    "    Ranking = 1;"
   ]
  },
  {
   "cell_type": "markdown",
   "metadata": {},
   "source": [
    "11. 列出恰好供应了相同零件的供应商对。\n",
    "\n",
    "注意：输出的时候，供应商对小号在前，相等不输出，要去重，都没有供应零件也算供应了相同零件。输出形式：(SNO,SNO)"
   ]
  },
  {
   "cell_type": "code",
   "execution_count": null,
   "metadata": {
    "vscode": {
     "languageId": "sql"
    }
   },
   "outputs": [],
   "source": [
    "SELECT DISTINCT\n",
    "    A.SNO AS SNO1,\n",
    "    B.SNO AS SNO2\n",
    "FROM\n",
    "    (SELECT S.SNO, GROUP_CONCAT(DISTINCT IFNULL(SPJ.PNO, 'NONE') ORDER BY SPJ.PNO) AS PNO_LIST\n",
    "     FROM S\n",
    "     LEFT JOIN SPJ ON S.SNO = SPJ.SNO\n",
    "     GROUP BY S.SNO) A\n",
    "JOIN\n",
    "    (SELECT S.SNO, GROUP_CONCAT(DISTINCT IFNULL(SPJ.PNO, 'NONE') ORDER BY SPJ.PNO) AS PNO_LIST\n",
    "     FROM S\n",
    "     LEFT JOIN SPJ ON S.SNO = SPJ.SNO\n",
    "     GROUP BY S.SNO) B\n",
    "ON\n",
    "    A.PNO_LIST = B.PNO_LIST AND A.SNO < B.SNO\n",
    "ORDER BY\n",
    "    SNO1, SNO2;"
   ]
  }
 ],
 "metadata": {
  "language_info": {
   "name": "python"
  }
 },
 "nbformat": 4,
 "nbformat_minor": 2
}
