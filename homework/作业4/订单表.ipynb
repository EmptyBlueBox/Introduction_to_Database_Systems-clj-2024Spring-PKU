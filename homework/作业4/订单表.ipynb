{
 "cells": [
  {
   "cell_type": "markdown",
   "metadata": {},
   "source": [
    "64. 城市业绩排名前三的员工"
   ]
  },
  {
   "cell_type": "code",
   "execution_count": null,
   "metadata": {
    "vscode": {
     "languageId": "sql"
    }
   },
   "outputs": [],
   "source": [
    "WITH SalesPerformance AS (\n",
    "    SELECT\n",
    "        soh.SalesPersonID,\n",
    "        adr.City,\n",
    "        SUM(sod.LineTotal) AS TotalSales\n",
    "    FROM salesorderheader soh\n",
    "    JOIN salesorderdetail sod ON soh.SalesOrderID = sod.SalesOrderID\n",
    "    JOIN businessentityaddress bea ON soh.SalesPersonID = bea.BusinessEntityID\n",
    "    JOIN address adr ON bea.AddressID = adr.AddressID\n",
    "    GROUP BY soh.SalesPersonID, adr.City\n",
    "),\n",
    "RankedSalesPerformance AS (\n",
    "    SELECT\n",
    "        City,\n",
    "        SalesPersonID,\n",
    "        TotalSales,\n",
    "        RANK() OVER (PARTITION BY City ORDER BY TotalSales DESC) AS SalesRank\n",
    "    FROM SalesPerformance\n",
    ")\n",
    "SELECT City, SalesPersonID\n",
    "FROM RankedSalesPerformance\n",
    "WHERE SalesRank <= 3;"
   ]
  },
  {
   "cell_type": "markdown",
   "metadata": {},
   "source": [
    "65. 交易多于四次的顾客"
   ]
  },
  {
   "cell_type": "code",
   "execution_count": null,
   "metadata": {
    "vscode": {
     "languageId": "sql"
    }
   },
   "outputs": [],
   "source": [
    "SELECT soh.CustomerID, soh.SalesOrderID, soh.OrderDate\n",
    "FROM salesorderheader AS soh\n",
    "WHERE soh.CustomerID IN (\n",
    "  SELECT CustomerID\n",
    "  FROM salesorderheader\n",
    "  GROUP BY CustomerID\n",
    "  HAVING COUNT(DISTINCT SalesOrderID) > 4\n",
    ")\n",
    "ORDER BY soh.CustomerID, soh.SalesOrderID;"
   ]
  }
 ],
 "metadata": {
  "language_info": {
   "name": "python"
  }
 },
 "nbformat": 4,
 "nbformat_minor": 2
}
