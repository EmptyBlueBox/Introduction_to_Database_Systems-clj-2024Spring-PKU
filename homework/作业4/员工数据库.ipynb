{
 "cells": [
  {
   "cell_type": "markdown",
   "metadata": {},
   "source": [
    "17. 最高工资所在的部门中的最低工资"
   ]
  },
  {
   "cell_type": "code",
   "execution_count": null,
   "metadata": {
    "vscode": {
     "languageId": "sql"
    }
   },
   "outputs": [],
   "source": [
    "SELECT \n",
    "    d.dept_no, \n",
    "    MAX(s.salary_INT) AS max_salary, \n",
    "    (SELECT MIN(salary_INT) FROM salaries WHERE emp_no IN (\n",
    "        SELECT emp_no FROM dept_emp WHERE dept_no = d.dept_no\n",
    "    )) AS min_salary\n",
    "FROM \n",
    "    dept_emp de\n",
    "    JOIN employees e ON de.emp_no = e.emp_no\n",
    "    JOIN salaries s ON e.emp_no = s.emp_no\n",
    "    JOIN departments d ON de.dept_no = d.dept_no\n",
    "GROUP BY \n",
    "    d.dept_no\n",
    "ORDER BY \n",
    "    max_salary DESC\n",
    "LIMIT 1;"
   ]
  }
 ],
 "metadata": {
  "language_info": {
   "name": "python"
  }
 },
 "nbformat": 4,
 "nbformat_minor": 2
}
